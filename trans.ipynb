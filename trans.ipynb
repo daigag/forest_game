{
 "cells": [
  {
   "cell_type": "code",
   "execution_count": 16,
   "metadata": {},
   "outputs": [],
   "source": [
    "import os, sys, random, pygame\n",
    "from PIL import Image\n",
    "import pandas as pd\n",
    "from deep_translator import GoogleTranslator\n",
    "import json\n",
    "import ast\n"
   ]
  },
  {
   "cell_type": "code",
   "execution_count": 17,
   "metadata": {},
   "outputs": [
    {
     "data": {
      "text/plain": [
       "(['alnis',\n",
       "  'cauna',\n",
       "  'dzenis',\n",
       "  'ezis',\n",
       "  'lapsa',\n",
       "  'lācis',\n",
       "  'lūsis',\n",
       "  'mežacūka',\n",
       "  'odze',\n",
       "  'pele',\n",
       "  'pūce',\n",
       "  'skudra',\n",
       "  'stirna',\n",
       "  'taurenis',\n",
       "  'vanags',\n",
       "  'vilks',\n",
       "  'zaķis',\n",
       "  'āpsis',\n",
       "  'žagata'],\n",
       " ['akmens',\n",
       "  'ala',\n",
       "  'apšu beka',\n",
       "  'baravika',\n",
       "  'gailene',\n",
       "  'koks',\n",
       "  'koks2',\n",
       "  'koks3',\n",
       "  'ligzda',\n",
       "  'ligzda1',\n",
       "  'mellene',\n",
       "  'mellene1',\n",
       "  'musmire',\n",
       "  'ozollapa',\n",
       "  'ozolzīle',\n",
       "  'pīlādzis',\n",
       "  'skuja',\n",
       "  'čiekurs'])"
      ]
     },
     "execution_count": 17,
     "metadata": {},
     "output_type": "execute_result"
    }
   ],
   "source": [
    "folder1 = 'meza_dzivnieki'\n",
    "folder2 = 'citi_atteli'\n",
    "a1= os.listdir(folder1)\n",
    "a2 = os.listdir(folder2)\n",
    "a1_no_ext=[os.path.splitext(x)[0] for x in a1]\n",
    "a2_no_ext=[os.path.splitext(x)[0] for x in a2]\n",
    "a1_no_ext, a2_no_ext #create list of file names without extension"
   ]
  },
  {
   "cell_type": "code",
   "execution_count": 18,
   "metadata": {},
   "outputs": [
    {
     "data": {
      "text/plain": [
       "(\"['moose', 'marten', 'woodpecker', 'hedgehog', 'fox', 'bear', 'lynx', 'boar', 'viper', 'mouse', 'owl', 'ant', ' doe', 'butterfly', 'hawk', 'wolf', 'hare', 'badger', 'chatter']\",\n",
       " '[\"briedis\", \"kiaunė\", \"medis\", \"ežiukas\", \"lapė\", \"meška\", \"lūšis\", \"šernas\", \"angis\", \"pelė\", \"pelėda\", \"skruzdė\", \" stirniukas“, „drugelis“, „vanagas“, „vilkas“, „kiškis“, „barsukas“, „plepus“]',\n",
       " \"['stone', 'cave', 'aspen beck', 'boar', 'larch', 'tree', 'tree2', 'tree3', 'nest', 'nest1', 'blueberry', 'blueberry1', 'musmire', 'oak leaf', 'acorn', 'acorn', 'needle', 'cone']\",\n",
       " '[\"akmuo\", \"urvas\", \"drebulės bekas\", \"šernas\", \"maumedis\", \"medis\", \"medis2\", \"medis3\", \"lizdas\", \"lizdas1\", \"mėlynė\", \"mėlynė1\", „musmire“, „ąžuolo lapas“, „gilė“, „gilė“, „adata“, „kūgis“]')"
      ]
     },
     "execution_count": 18,
     "metadata": {},
     "output_type": "execute_result"
    }
   ],
   "source": [
    "to_translate1 = str(a1_no_ext)\n",
    "to_translate2 = str(a2_no_ext)\n",
    "translated_a1_eng = GoogleTranslator(source='auto', target='en').translate(to_translate1)\n",
    "translated_a1_lt = GoogleTranslator(source='auto', target='lt').translate(to_translate1)\n",
    "translated_a2_eng = GoogleTranslator(source='auto', target='en').translate(to_translate2)\n",
    "translated_a2_lt = GoogleTranslator(source='auto', target='lt').translate(to_translate2)\n",
    "translated_a1_eng, translated_a1_lt, translated_a2_eng, translated_a2_lt"
   ]
  },
  {
   "cell_type": "code",
   "execution_count": 25,
   "metadata": {},
   "outputs": [
    {
     "name": "stdout",
     "output_type": "stream",
     "text": [
      "['moose', 'marten', 'woodpecker', 'hedgehog', 'fox', 'bear', 'lynx', 'boar', 'viper', 'mouse', 'owl', 'ant', ' doe', 'butterfly', 'hawk', 'wolf', 'hare', 'badger', 'chatter'] <class 'list'>\n",
      "['stone', 'cave', 'aspen beck', 'boar', 'larch', 'tree', 'tree2', 'tree3', 'nest', 'nest1', 'blueberry', 'blueberry1', 'musmire', 'oak leaf', 'acorn', 'acorn', 'needle', 'cone'] <class 'list'>\n"
     ]
    }
   ],
   "source": [
    "# initializing string representation of a list\n",
    "ini_list = translated_a1_eng\n",
    "ini_list2 = translated_a2_eng\n",
    " \n",
    "# Converting string to list\n",
    "eng1 = ast.literal_eval(ini_list)\n",
    "eng2 = ast.literal_eval(ini_list2)\n",
    "\n",
    " \n",
    "# printing final result and its type\n",
    "print(eng1, type(res))\n",
    "print(eng2, type(res2))\n",
    "\n"
   ]
  },
  {
   "cell_type": "code",
   "execution_count": 28,
   "metadata": {},
   "outputs": [
    {
     "data": {
      "text/html": [
       "<div>\n",
       "<style scoped>\n",
       "    .dataframe tbody tr th:only-of-type {\n",
       "        vertical-align: middle;\n",
       "    }\n",
       "\n",
       "    .dataframe tbody tr th {\n",
       "        vertical-align: top;\n",
       "    }\n",
       "\n",
       "    .dataframe thead th {\n",
       "        text-align: right;\n",
       "    }\n",
       "</style>\n",
       "<table border=\"1\" class=\"dataframe\">\n",
       "  <thead>\n",
       "    <tr style=\"text-align: right;\">\n",
       "      <th></th>\n",
       "      <th>Image</th>\n",
       "      <th>Latvian</th>\n",
       "      <th>English</th>\n",
       "    </tr>\n",
       "  </thead>\n",
       "  <tbody>\n",
       "    <tr>\n",
       "      <th>0</th>\n",
       "      <td>alnis.png</td>\n",
       "      <td>alnis</td>\n",
       "      <td>moose</td>\n",
       "    </tr>\n",
       "    <tr>\n",
       "      <th>1</th>\n",
       "      <td>cauna.png</td>\n",
       "      <td>cauna</td>\n",
       "      <td>marten</td>\n",
       "    </tr>\n",
       "    <tr>\n",
       "      <th>2</th>\n",
       "      <td>dzenis.png</td>\n",
       "      <td>dzenis</td>\n",
       "      <td>woodpecker</td>\n",
       "    </tr>\n",
       "    <tr>\n",
       "      <th>3</th>\n",
       "      <td>ezis.png</td>\n",
       "      <td>ezis</td>\n",
       "      <td>hedgehog</td>\n",
       "    </tr>\n",
       "    <tr>\n",
       "      <th>4</th>\n",
       "      <td>lapsa.png</td>\n",
       "      <td>lapsa</td>\n",
       "      <td>fox</td>\n",
       "    </tr>\n",
       "    <tr>\n",
       "      <th>5</th>\n",
       "      <td>lācis.png</td>\n",
       "      <td>lācis</td>\n",
       "      <td>bear</td>\n",
       "    </tr>\n",
       "    <tr>\n",
       "      <th>6</th>\n",
       "      <td>lūsis.png</td>\n",
       "      <td>lūsis</td>\n",
       "      <td>lynx</td>\n",
       "    </tr>\n",
       "    <tr>\n",
       "      <th>7</th>\n",
       "      <td>mežacūka.png</td>\n",
       "      <td>mežacūka</td>\n",
       "      <td>boar</td>\n",
       "    </tr>\n",
       "    <tr>\n",
       "      <th>8</th>\n",
       "      <td>odze.png</td>\n",
       "      <td>odze</td>\n",
       "      <td>viper</td>\n",
       "    </tr>\n",
       "    <tr>\n",
       "      <th>9</th>\n",
       "      <td>pele.png</td>\n",
       "      <td>pele</td>\n",
       "      <td>mouse</td>\n",
       "    </tr>\n",
       "    <tr>\n",
       "      <th>10</th>\n",
       "      <td>pūce.png</td>\n",
       "      <td>pūce</td>\n",
       "      <td>owl</td>\n",
       "    </tr>\n",
       "    <tr>\n",
       "      <th>11</th>\n",
       "      <td>skudra.png</td>\n",
       "      <td>skudra</td>\n",
       "      <td>ant</td>\n",
       "    </tr>\n",
       "    <tr>\n",
       "      <th>12</th>\n",
       "      <td>stirna.png</td>\n",
       "      <td>stirna</td>\n",
       "      <td>doe</td>\n",
       "    </tr>\n",
       "    <tr>\n",
       "      <th>13</th>\n",
       "      <td>taurenis.png</td>\n",
       "      <td>taurenis</td>\n",
       "      <td>butterfly</td>\n",
       "    </tr>\n",
       "    <tr>\n",
       "      <th>14</th>\n",
       "      <td>vanags.png</td>\n",
       "      <td>vanags</td>\n",
       "      <td>hawk</td>\n",
       "    </tr>\n",
       "    <tr>\n",
       "      <th>15</th>\n",
       "      <td>vilks.png</td>\n",
       "      <td>vilks</td>\n",
       "      <td>wolf</td>\n",
       "    </tr>\n",
       "    <tr>\n",
       "      <th>16</th>\n",
       "      <td>zaķis.png</td>\n",
       "      <td>zaķis</td>\n",
       "      <td>hare</td>\n",
       "    </tr>\n",
       "    <tr>\n",
       "      <th>17</th>\n",
       "      <td>āpsis.png</td>\n",
       "      <td>āpsis</td>\n",
       "      <td>badger</td>\n",
       "    </tr>\n",
       "    <tr>\n",
       "      <th>18</th>\n",
       "      <td>žagata.png</td>\n",
       "      <td>žagata</td>\n",
       "      <td>chatter</td>\n",
       "    </tr>\n",
       "  </tbody>\n",
       "</table>\n",
       "</div>"
      ],
      "text/plain": [
       "           Image   Latvian     English\n",
       "0      alnis.png     alnis       moose\n",
       "1      cauna.png     cauna      marten\n",
       "2     dzenis.png    dzenis  woodpecker\n",
       "3       ezis.png      ezis    hedgehog\n",
       "4      lapsa.png     lapsa         fox\n",
       "5      lācis.png     lācis        bear\n",
       "6      lūsis.png     lūsis        lynx\n",
       "7   mežacūka.png  mežacūka        boar\n",
       "8       odze.png      odze       viper\n",
       "9       pele.png      pele       mouse\n",
       "10      pūce.png      pūce         owl\n",
       "11    skudra.png    skudra         ant\n",
       "12    stirna.png    stirna         doe\n",
       "13  taurenis.png  taurenis   butterfly\n",
       "14    vanags.png    vanags        hawk\n",
       "15     vilks.png     vilks        wolf\n",
       "16     zaķis.png     zaķis        hare\n",
       "17     āpsis.png     āpsis      badger\n",
       "18    žagata.png    žagata     chatter"
      ]
     },
     "execution_count": 28,
     "metadata": {},
     "output_type": "execute_result"
    }
   ],
   "source": [
    "df = pd.DataFrame(zip(a1, a1_no_ext, eng1), columns =['Image', 'Latvian', 'English'])\n",
    "df\n"
   ]
  }
 ],
 "metadata": {
  "kernelspec": {
   "display_name": "Python 3.11.0 64-bit",
   "language": "python",
   "name": "python3"
  },
  "language_info": {
   "codemirror_mode": {
    "name": "ipython",
    "version": 3
   },
   "file_extension": ".py",
   "mimetype": "text/x-python",
   "name": "python",
   "nbconvert_exporter": "python",
   "pygments_lexer": "ipython3",
   "version": "3.11.0"
  },
  "orig_nbformat": 4,
  "vscode": {
   "interpreter": {
    "hash": "de650fcd9e5db3085c070c070d3aae8c0a2254d9d1778c6cbb5974502e8440e6"
   }
  }
 },
 "nbformat": 4,
 "nbformat_minor": 2
}
